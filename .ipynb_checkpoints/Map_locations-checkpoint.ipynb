{
 "cells": [
  {
   "cell_type": "code",
   "execution_count": 2,
   "metadata": {},
   "outputs": [
    {
     "name": "stdout",
     "output_type": "stream",
     "text": [
      "Collecting folium\n",
      "  Downloading https://files.pythonhosted.org/packages/e6/7a/e227526f4a82e752aa0352ca63d93166ec00ac0fdb63fa7066f94208cade/folium-0.12.0-py2.py3-none-any.whl (94kB)\n",
      "Requirement already satisfied: requests in c:\\users\\mansitsuman\\desktop\\water\\aceawateranalytics\\waterenv\\lib\\site-packages (from folium) (2.25.1)\n",
      "Requirement already satisfied: jinja2>=2.9 in c:\\users\\mansitsuman\\desktop\\water\\aceawateranalytics\\waterenv\\lib\\site-packages (from folium) (2.11.2)\n",
      "Collecting branca>=0.3.0 (from folium)\n",
      "  Downloading https://files.pythonhosted.org/packages/61/1f/570b0615c452265d57e4114e633231d6cd9b9d275256778a675681e4f711/branca-0.4.2-py3-none-any.whl\n",
      "Requirement already satisfied: numpy in c:\\users\\mansitsuman\\desktop\\water\\aceawateranalytics\\waterenv\\lib\\site-packages (from folium) (1.19.5)\n",
      "Requirement already satisfied: certifi>=2017.4.17 in c:\\users\\mansitsuman\\desktop\\water\\aceawateranalytics\\waterenv\\lib\\site-packages (from requests->folium) (2020.12.5)\n",
      "Requirement already satisfied: urllib3<1.27,>=1.21.1 in c:\\users\\mansitsuman\\desktop\\water\\aceawateranalytics\\waterenv\\lib\\site-packages (from requests->folium) (1.26.2)\n",
      "Requirement already satisfied: idna<3,>=2.5 in c:\\users\\mansitsuman\\desktop\\water\\aceawateranalytics\\waterenv\\lib\\site-packages (from requests->folium) (2.10)\n",
      "Requirement already satisfied: chardet<5,>=3.0.2 in c:\\users\\mansitsuman\\desktop\\water\\aceawateranalytics\\waterenv\\lib\\site-packages (from requests->folium) (4.0.0)\n",
      "Requirement already satisfied: MarkupSafe>=0.23 in c:\\users\\mansitsuman\\desktop\\water\\aceawateranalytics\\waterenv\\lib\\site-packages (from jinja2>=2.9->folium) (1.1.1)\n",
      "Installing collected packages: branca, folium\n",
      "Successfully installed branca-0.4.2 folium-0.12.0\n",
      "Note: you may need to restart the kernel to use updated packages.\n"
     ]
    },
    {
     "name": "stderr",
     "output_type": "stream",
     "text": [
      "WARNING: You are using pip version 19.2.3, however version 20.3.3 is available.\n",
      "You should consider upgrading via the 'python -m pip install --upgrade pip' command.\n"
     ]
    }
   ],
   "source": [
    "pip install folium"
   ]
  },
  {
   "cell_type": "code",
   "execution_count": 3,
   "metadata": {},
   "outputs": [],
   "source": [
    "import folium\n",
    "import pandas as pd"
   ]
  },
  {
   "cell_type": "code",
   "execution_count": 1,
   "metadata": {},
   "outputs": [],
   "source": [
    "locations = {}\n",
    "\n",
    "locations['Settefrati'] = {'lat' : 41.669624, 'lon' : 13.850011 }\n",
    "locations['Velletri'] = {'lat' : 41.6867015, 'lon' : 12.7770433 }\n",
    "locations['Petrignano'] = {'lat' : 43.1029282, 'lon' : 12.5237369 }\n",
    "locations['Piaggione'] = {'lat' : 43.936794, 'lon' : 10.5040929 }\n",
    "locations['S_Fiora'] = {'lat' : 42.854, 'lon' : 11.556 }\n",
    "locations['Abbadia_S_Salvatore'] = {'lat' : 42.8809724, 'lon' : 11.6724203 }\n",
    "locations['Vetta_Amiata'] = {'lat' : 42.8908958, 'lon' : 11.6264863 }\n",
    "locations['Castel_del_Piano'] = {'lat' : 42.8932352, 'lon' : 11.5383804 }\n",
    "locations['Terni'] = {'lat' : 42.6537515, 'lon' : 12.43981163 }\n",
    "locations['Bastia_Umbra'] = {'lat' : 43.0677554, 'lon' : 12.5495816  }\n",
    "locations['S_Savino'] = {'lat' : 43.339, 'lon' : 11.742 }\n",
    "locations['Monteroni_Arbia_Biena'] = {'lat' : 43.228279, 'lon' : 11.4021433 }\n",
    "locations['Monticiano_la_Pineta'] = {'lat' : 43.1335066 , 'lon' : 11.2408464 }\n",
    "locations['Montalcinello'] = {'lat' : 43.1978783, 'lon' : 11.0787906 }\n",
    "locations['Sovicille'] = {'lat' : 43.2806018, 'lon' : 11.2281756 }\n",
    "locations['Simignano'] = {'lat' : 43.2921965, 'lon' : 11.1680079 }\n",
    "locations['Mensano'] = {'lat' : 43.3009594 , 'lon' : 11.0548528 }\n",
    "locations['Siena_Poggio_al_Vento'] = {'lat' : 43.1399762, 'lon' : 11.3832092 }\n",
    "locations['Scorgiano'] = {'lat' : 43.3521445 , 'lon' : 11.15867 }\n",
    "locations['Ponte_Orgia'] = {'lat' : 43.2074581 , 'lon' : 11.2504416 }\n",
    "locations['Pentolina'] = {'lat' : 43.1968029, 'lon' : 11.1754672 }\n",
    "locations['Montevarchi'] = {'lat' : 43.5234999, 'lon' : 11.5675911 }\n",
    "locations['Incisa'] = {'lat' : 43.6558723, 'lon' : 11.4526838 }\n",
    "locations['Camaldoli'] = {'lat' : 43.7943293, 'lon' : 11.8199481 }\n",
    "locations['Bibbiena'] = {'lat' : 43.6955475, 'lon' : 11.817341 }\n",
    "locations['Stia'] = {'lat' : 43.801537, 'lon' : 11.7067347 }\n",
    "locations['Laterina'] = {'lat' : 43.5081823, 'lon' : 11.7102588 }\n",
    "locations['Monteporzio'] = {'lat' : 41.817251, 'lon' : 12.7050839 }\n",
    "locations['Pontetetto'] = {'lat' : 43.8226294, 'lon' : 10.4940843 }\n",
    "locations['Ponte_a_Moriano'] = {'lat' : 43.9083609 , 'lon' : 10.5342488 }\n",
    "locations['Calavorno'] = {'lat' : 44.0217216, 'lon' : 10.5297323 }\n",
    "locations['Borgo_a_Mozzano'] = {'lat' : 43.978948, 'lon' : 10.545703  }\n",
    "locations['Gallicano'] = {'lat' : 44.0606512, 'lon' : 10.435668  }\n",
    "locations['Tereglio_Coreglia_Antelminelli'] = {'lat' : 44.0550548 , 'lon' : 10.5623594 }\n",
    "locations['Lucca_Orto_Botanico'] = {'lat' : 43.84149865, 'lon' : 10.51169066 }\n",
    "locations['Orentano'] = {'lat' : 43.7796506, 'lon' : 10.6583892 }\n",
    "locations['Fabbriche_di_Vallico'] = {'lat' : 43.997647, 'lon' : 10.4279  }\n",
    "locations['Monte_Serra'] = {'lat' : 43.750833, 'lon' : 10.555278 }\n",
    "locations['Mangona'] = {'lat' : 44.0496863, 'lon' : 11.1958797 }\n",
    "locations['Le_Croci'] = {'lat' : 44.0360503, 'lon' : 11.2675661 }\n",
    "locations['Cavallina'] = {'lat' : 43.9833515, 'lon' : 11.2323312 }\n",
    "locations['S_Agata'] = {'lat' : 43.9438247, 'lon' : 11.3089835 }\n",
    "locations['Firenze'] = {'lat' : 43.7698712, 'lon' : 11.2555757 }\n",
    "locations['S_Piero'] = {'lat' : 43.9637372, 'lon' : 11.3182991 }\n",
    "locations['Vernio'] = {'lat' : 44.0440508 , 'lon' : 11.1498804  }\n",
    "locations['Consuma'] = {'lat' : 43.784, 'lon' : 11.585 }\n",
    "locations['Croce_Arcana']  = {'lat' : 44.1323056, 'lon' : 10.7689152 }\n",
    "locations['Laghetto_Verde']  = {'lat' :   42.883, 'lon' : 11.662  }"
   ]
  },
  {
   "cell_type": "code",
   "execution_count": 4,
   "metadata": {},
   "outputs": [
    {
     "data": {
      "text/html": [
       "<div style=\"width:100%;\"><div style=\"position:relative;width:100%;height:0;padding-bottom:60%;\"><span style=\"color:#565656\">Make this Notebook Trusted to load map: File -> Trust Notebook</span><iframe src=\"about:blank\" style=\"position:absolute;width:100%;height:100%;left:0;top:0;border:none !important;\" data-html=%3C%21DOCTYPE%20html%3E%0A%3Chead%3E%20%20%20%20%0A%20%20%20%20%3Cmeta%20http-equiv%3D%22content-type%22%20content%3D%22text/html%3B%20charset%3DUTF-8%22%20/%3E%0A%20%20%20%20%0A%20%20%20%20%20%20%20%20%3Cscript%3E%0A%20%20%20%20%20%20%20%20%20%20%20%20L_NO_TOUCH%20%3D%20false%3B%0A%20%20%20%20%20%20%20%20%20%20%20%20L_DISABLE_3D%20%3D%20false%3B%0A%20%20%20%20%20%20%20%20%3C/script%3E%0A%20%20%20%20%0A%20%20%20%20%3Cstyle%3Ehtml%2C%20body%20%7Bwidth%3A%20100%25%3Bheight%3A%20100%25%3Bmargin%3A%200%3Bpadding%3A%200%3B%7D%3C/style%3E%0A%20%20%20%20%3Cstyle%3E%23map%20%7Bposition%3Aabsolute%3Btop%3A0%3Bbottom%3A0%3Bright%3A0%3Bleft%3A0%3B%7D%3C/style%3E%0A%20%20%20%20%3Cscript%20src%3D%22https%3A//cdn.jsdelivr.net/npm/leaflet%401.6.0/dist/leaflet.js%22%3E%3C/script%3E%0A%20%20%20%20%3Cscript%20src%3D%22https%3A//code.jquery.com/jquery-1.12.4.min.js%22%3E%3C/script%3E%0A%20%20%20%20%3Cscript%20src%3D%22https%3A//maxcdn.bootstrapcdn.com/bootstrap/3.2.0/js/bootstrap.min.js%22%3E%3C/script%3E%0A%20%20%20%20%3Cscript%20src%3D%22https%3A//cdnjs.cloudflare.com/ajax/libs/Leaflet.awesome-markers/2.0.2/leaflet.awesome-markers.js%22%3E%3C/script%3E%0A%20%20%20%20%3Clink%20rel%3D%22stylesheet%22%20href%3D%22https%3A//cdn.jsdelivr.net/npm/leaflet%401.6.0/dist/leaflet.css%22/%3E%0A%20%20%20%20%3Clink%20rel%3D%22stylesheet%22%20href%3D%22https%3A//maxcdn.bootstrapcdn.com/bootstrap/3.2.0/css/bootstrap.min.css%22/%3E%0A%20%20%20%20%3Clink%20rel%3D%22stylesheet%22%20href%3D%22https%3A//maxcdn.bootstrapcdn.com/bootstrap/3.2.0/css/bootstrap-theme.min.css%22/%3E%0A%20%20%20%20%3Clink%20rel%3D%22stylesheet%22%20href%3D%22https%3A//maxcdn.bootstrapcdn.com/font-awesome/4.6.3/css/font-awesome.min.css%22/%3E%0A%20%20%20%20%3Clink%20rel%3D%22stylesheet%22%20href%3D%22https%3A//cdnjs.cloudflare.com/ajax/libs/Leaflet.awesome-markers/2.0.2/leaflet.awesome-markers.css%22/%3E%0A%20%20%20%20%3Clink%20rel%3D%22stylesheet%22%20href%3D%22https%3A//cdn.jsdelivr.net/gh/python-visualization/folium/folium/templates/leaflet.awesome.rotate.min.css%22/%3E%0A%20%20%20%20%0A%20%20%20%20%20%20%20%20%20%20%20%20%3Cmeta%20name%3D%22viewport%22%20content%3D%22width%3Ddevice-width%2C%0A%20%20%20%20%20%20%20%20%20%20%20%20%20%20%20%20initial-scale%3D1.0%2C%20maximum-scale%3D1.0%2C%20user-scalable%3Dno%22%20/%3E%0A%20%20%20%20%20%20%20%20%20%20%20%20%3Cstyle%3E%0A%20%20%20%20%20%20%20%20%20%20%20%20%20%20%20%20%23map_53fec27c20234db6a668bc53181d1386%20%7B%0A%20%20%20%20%20%20%20%20%20%20%20%20%20%20%20%20%20%20%20%20position%3A%20relative%3B%0A%20%20%20%20%20%20%20%20%20%20%20%20%20%20%20%20%20%20%20%20width%3A%20100.0%25%3B%0A%20%20%20%20%20%20%20%20%20%20%20%20%20%20%20%20%20%20%20%20height%3A%20100.0%25%3B%0A%20%20%20%20%20%20%20%20%20%20%20%20%20%20%20%20%20%20%20%20left%3A%200.0%25%3B%0A%20%20%20%20%20%20%20%20%20%20%20%20%20%20%20%20%20%20%20%20top%3A%200.0%25%3B%0A%20%20%20%20%20%20%20%20%20%20%20%20%20%20%20%20%7D%0A%20%20%20%20%20%20%20%20%20%20%20%20%3C/style%3E%0A%20%20%20%20%20%20%20%20%0A%3C/head%3E%0A%3Cbody%3E%20%20%20%20%0A%20%20%20%20%0A%20%20%20%20%20%20%20%20%20%20%20%20%3Cdiv%20class%3D%22folium-map%22%20id%3D%22map_53fec27c20234db6a668bc53181d1386%22%20%3E%3C/div%3E%0A%20%20%20%20%20%20%20%20%0A%3C/body%3E%0A%3Cscript%3E%20%20%20%20%0A%20%20%20%20%0A%20%20%20%20%20%20%20%20%20%20%20%20var%20map_53fec27c20234db6a668bc53181d1386%20%3D%20L.map%28%0A%20%20%20%20%20%20%20%20%20%20%20%20%20%20%20%20%22map_53fec27c20234db6a668bc53181d1386%22%2C%0A%20%20%20%20%20%20%20%20%20%20%20%20%20%20%20%20%7B%0A%20%20%20%20%20%20%20%20%20%20%20%20%20%20%20%20%20%20%20%20center%3A%20%5B42.6%2C%2012.4%5D%2C%0A%20%20%20%20%20%20%20%20%20%20%20%20%20%20%20%20%20%20%20%20crs%3A%20L.CRS.EPSG3857%2C%0A%20%20%20%20%20%20%20%20%20%20%20%20%20%20%20%20%20%20%20%20zoom%3A%207%2C%0A%20%20%20%20%20%20%20%20%20%20%20%20%20%20%20%20%20%20%20%20zoomControl%3A%20true%2C%0A%20%20%20%20%20%20%20%20%20%20%20%20%20%20%20%20%20%20%20%20preferCanvas%3A%20false%2C%0A%20%20%20%20%20%20%20%20%20%20%20%20%20%20%20%20%7D%0A%20%20%20%20%20%20%20%20%20%20%20%20%29%3B%0A%0A%20%20%20%20%20%20%20%20%20%20%20%20%0A%0A%20%20%20%20%20%20%20%20%0A%20%20%20%20%0A%20%20%20%20%20%20%20%20%20%20%20%20var%20tile_layer_c3972df3f9a0415087069b93f8aaee58%20%3D%20L.tileLayer%28%0A%20%20%20%20%20%20%20%20%20%20%20%20%20%20%20%20%22https%3A//cartodb-basemaps-%7Bs%7D.global.ssl.fastly.net/light_all/%7Bz%7D/%7Bx%7D/%7By%7D.png%22%2C%0A%20%20%20%20%20%20%20%20%20%20%20%20%20%20%20%20%7B%22attribution%22%3A%20%22%5Cu0026copy%3B%20%5Cu003ca%20href%3D%5C%22http%3A//www.openstreetmap.org/copyright%5C%22%5Cu003eOpenStreetMap%5Cu003c/a%5Cu003e%20contributors%20%5Cu0026copy%3B%20%5Cu003ca%20href%3D%5C%22http%3A//cartodb.com/attributions%5C%22%5Cu003eCartoDB%5Cu003c/a%5Cu003e%2C%20CartoDB%20%5Cu003ca%20href%20%3D%5C%22http%3A//cartodb.com/attributions%5C%22%5Cu003eattributions%5Cu003c/a%5Cu003e%22%2C%20%22detectRetina%22%3A%20false%2C%20%22maxNativeZoom%22%3A%2018%2C%20%22maxZoom%22%3A%2018%2C%20%22minZoom%22%3A%200%2C%20%22noWrap%22%3A%20false%2C%20%22opacity%22%3A%201%2C%20%22subdomains%22%3A%20%22abc%22%2C%20%22tms%22%3A%20false%7D%0A%20%20%20%20%20%20%20%20%20%20%20%20%29.addTo%28map_53fec27c20234db6a668bc53181d1386%29%3B%0A%20%20%20%20%20%20%20%20%0A%3C/script%3E onload=\"this.contentDocument.open();this.contentDocument.write(    decodeURIComponent(this.getAttribute('data-html')));this.contentDocument.close();\" allowfullscreen webkitallowfullscreen mozallowfullscreen></iframe></div></div>"
      ],
      "text/plain": [
       "<folium.folium.Map at 0x16a90e92188>"
      ]
     },
     "execution_count": 4,
     "metadata": {},
     "output_type": "execute_result"
    }
   ],
   "source": [
    "m = folium.Map(location=[42.6, 12.4], tiles='cartodbpositron',zoom_start=7)\n",
    "\n",
    "colors = ['purple','lightred','green', 'lightblue', 'red', 'blue', 'darkblue','lightgreen', 'orange',  'darkgreen', 'beige',  'pink', 'darkred', 'darkpurple', 'cadetblue',]\n",
    "\n",
    "geolocator = Nominatim(user_agent='myapplication')\n",
    "for i in locations_df.index:\n",
    "    folium.Marker([locations_df.iloc[i].lat, \n",
    "                  locations_df.iloc[i].lon],\n",
    "                  popup=locations_df.iloc[i].city, \n",
    "                  icon=folium.Icon(color=colors[locations_df.iloc[i].cluster_enc])).add_to(m)\n",
    "\n"
   ]
  }
 ],
 "metadata": {
  "kernelspec": {
   "display_name": "waterenv",
   "language": "python",
   "name": "waterenv"
  },
  "language_info": {
   "codemirror_mode": {
    "name": "ipython",
    "version": 3
   },
   "file_extension": ".py",
   "mimetype": "text/x-python",
   "name": "python",
   "nbconvert_exporter": "python",
   "pygments_lexer": "ipython3",
   "version": "3.7.5"
  }
 },
 "nbformat": 4,
 "nbformat_minor": 4
}
